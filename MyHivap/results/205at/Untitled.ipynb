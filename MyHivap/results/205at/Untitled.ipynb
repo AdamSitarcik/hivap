{
 "cells": [
  {
   "cell_type": "code",
   "execution_count": 1,
   "id": "6fd3d22a-8cf8-46fb-9241-026b79fbc95b",
   "metadata": {},
   "outputs": [],
   "source": [
    "import matplotlib.pyplot as plt\n",
    "import seaborn as sns\n",
    "import numpy as np"
   ]
  },
  {
   "cell_type": "code",
   "execution_count": 2,
   "id": "488ffb35-4664-4226-a7bd-4e2bff3a0c05",
   "metadata": {},
   "outputs": [],
   "source": [
    "x = [184.7, 189.8, 196.3, 200.5, 208]\n",
    "y = [140, 90, 23, 0, 0]\n",
    "err = []"
   ]
  },
  {
   "cell_type": "code",
   "execution_count": null,
   "id": "9d8ae68a-dc47-4803-8bb0-206b8962a40b",
   "metadata": {},
   "outputs": [],
   "source": []
  }
 ],
 "metadata": {
  "kernelspec": {
   "display_name": "Python 3 (ipykernel)",
   "language": "python",
   "name": "python3"
  },
  "language_info": {
   "codemirror_mode": {
    "name": "ipython",
    "version": 3
   },
   "file_extension": ".py",
   "mimetype": "text/x-python",
   "name": "python",
   "nbconvert_exporter": "python",
   "pygments_lexer": "ipython3",
   "version": "3.10.4"
  }
 },
 "nbformat": 4,
 "nbformat_minor": 5
}
